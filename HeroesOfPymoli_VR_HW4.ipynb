{
 "cells": [
  {
   "cell_type": "markdown",
   "metadata": {},
   "source": [
    "### Heroes Of Pymoli Data Analysis\n",
    "* Of the 1163 active players, the vast majority are male (84%). There also exists, a smaller, but notable proportion of female players (14%).\n",
    "\n",
    "* Our peak age demographic falls between 20-24 (44.8%) with secondary groups falling between 15-19 (18.60%) and 25-29 (13.4%).  \n",
    "-----"
   ]
  },
  {
   "cell_type": "markdown",
   "metadata": {},
   "source": [
    "### Note\n",
    "* Instructions have been included for each segment. You do not have to follow them exactly, but they are included to help you think through the steps."
   ]
  },
  {
   "cell_type": "code",
   "execution_count": 2,
   "metadata": {},
   "outputs": [
    {
     "data": {
      "text/html": [
       "<div>\n",
       "<style scoped>\n",
       "    .dataframe tbody tr th:only-of-type {\n",
       "        vertical-align: middle;\n",
       "    }\n",
       "\n",
       "    .dataframe tbody tr th {\n",
       "        vertical-align: top;\n",
       "    }\n",
       "\n",
       "    .dataframe thead th {\n",
       "        text-align: right;\n",
       "    }\n",
       "</style>\n",
       "<table border=\"1\" class=\"dataframe\">\n",
       "  <thead>\n",
       "    <tr style=\"text-align: right;\">\n",
       "      <th></th>\n",
       "      <th>Purchase ID</th>\n",
       "      <th>SN</th>\n",
       "      <th>Age</th>\n",
       "      <th>Gender</th>\n",
       "      <th>Item ID</th>\n",
       "      <th>Item Name</th>\n",
       "      <th>Price</th>\n",
       "    </tr>\n",
       "  </thead>\n",
       "  <tbody>\n",
       "    <tr>\n",
       "      <th>0</th>\n",
       "      <td>0</td>\n",
       "      <td>Lisim78</td>\n",
       "      <td>20</td>\n",
       "      <td>Male</td>\n",
       "      <td>108</td>\n",
       "      <td>Extraction, Quickblade Of Trembling Hands</td>\n",
       "      <td>3.53</td>\n",
       "    </tr>\n",
       "    <tr>\n",
       "      <th>1</th>\n",
       "      <td>1</td>\n",
       "      <td>Lisovynya38</td>\n",
       "      <td>40</td>\n",
       "      <td>Male</td>\n",
       "      <td>143</td>\n",
       "      <td>Frenzied Scimitar</td>\n",
       "      <td>1.56</td>\n",
       "    </tr>\n",
       "    <tr>\n",
       "      <th>2</th>\n",
       "      <td>2</td>\n",
       "      <td>Ithergue48</td>\n",
       "      <td>24</td>\n",
       "      <td>Male</td>\n",
       "      <td>92</td>\n",
       "      <td>Final Critic</td>\n",
       "      <td>4.88</td>\n",
       "    </tr>\n",
       "    <tr>\n",
       "      <th>3</th>\n",
       "      <td>3</td>\n",
       "      <td>Chamassasya86</td>\n",
       "      <td>24</td>\n",
       "      <td>Male</td>\n",
       "      <td>100</td>\n",
       "      <td>Blindscythe</td>\n",
       "      <td>3.27</td>\n",
       "    </tr>\n",
       "    <tr>\n",
       "      <th>4</th>\n",
       "      <td>4</td>\n",
       "      <td>Iskosia90</td>\n",
       "      <td>23</td>\n",
       "      <td>Male</td>\n",
       "      <td>131</td>\n",
       "      <td>Fury</td>\n",
       "      <td>1.44</td>\n",
       "    </tr>\n",
       "  </tbody>\n",
       "</table>\n",
       "</div>"
      ],
      "text/plain": [
       "   Purchase ID             SN  Age Gender  Item ID  \\\n",
       "0            0        Lisim78   20   Male      108   \n",
       "1            1    Lisovynya38   40   Male      143   \n",
       "2            2     Ithergue48   24   Male       92   \n",
       "3            3  Chamassasya86   24   Male      100   \n",
       "4            4      Iskosia90   23   Male      131   \n",
       "\n",
       "                                   Item Name  Price  \n",
       "0  Extraction, Quickblade Of Trembling Hands   3.53  \n",
       "1                          Frenzied Scimitar   1.56  \n",
       "2                               Final Critic   4.88  \n",
       "3                                Blindscythe   3.27  \n",
       "4                                       Fury   1.44  "
      ]
     },
     "execution_count": 2,
     "metadata": {},
     "output_type": "execute_result"
    }
   ],
   "source": [
    "# Dependencies and Setup\n",
    "import pandas as pd\n",
    "import numpy as np\n",
    "\n",
    "# File to Load (Remember to Change These)\n",
    "file_to_load = \"Resources/purchase_data.csv\"\n",
    "\n",
    "# Read Purchasing File and store into Pandas data frame\n",
    "purchase_data = pd.read_csv(file_to_load)\n",
    "purchase_data.head()"
   ]
  },
  {
   "cell_type": "markdown",
   "metadata": {},
   "source": [
    "## Player Count"
   ]
  },
  {
   "cell_type": "markdown",
   "metadata": {},
   "source": [
    "* Display the total number of players\n"
   ]
  },
  {
   "cell_type": "code",
   "execution_count": 3,
   "metadata": {},
   "outputs": [
    {
     "data": {
      "text/plain": [
       "780"
      ]
     },
     "execution_count": 3,
     "metadata": {},
     "output_type": "execute_result"
    }
   ],
   "source": [
    "total_players=len(purchase_data)\n",
    "total_players"
   ]
  },
  {
   "cell_type": "markdown",
   "metadata": {},
   "source": [
    "## Purchasing Analysis (Total)"
   ]
  },
  {
   "cell_type": "markdown",
   "metadata": {},
   "source": [
    "* Run basic calculations to obtain number of unique items, average price, etc.\n",
    "\n",
    "\n",
    "* Create a summary data frame to hold the results\n",
    "\n",
    "\n",
    "* Optional: give the displayed data cleaner formatting\n",
    "\n",
    "\n",
    "* Display the summary data frame\n"
   ]
  },
  {
   "cell_type": "code",
   "execution_count": 17,
   "metadata": {
    "scrolled": true
   },
   "outputs": [
    {
     "data": {
      "text/html": [
       "<style  type=\"text/css\" >\n",
       "</style><table id=\"T_4fff3712_8b00_11e9_9fc5_983b8f33a544\" ><thead>    <tr>        <th class=\"blank level0\" ></th>        <th class=\"col_heading level0 col0\" >Number of Unique Items</th>        <th class=\"col_heading level0 col1\" >Average Price</th>        <th class=\"col_heading level0 col2\" >Number of Purchases</th>        <th class=\"col_heading level0 col3\" >Total Revenue</th>    </tr></thead><tbody>\n",
       "                <tr>\n",
       "                        <th id=\"T_4fff3712_8b00_11e9_9fc5_983b8f33a544level0_row0\" class=\"row_heading level0 row0\" >0</th>\n",
       "                        <td id=\"T_4fff3712_8b00_11e9_9fc5_983b8f33a544row0_col0\" class=\"data row0 col0\" >183</td>\n",
       "                        <td id=\"T_4fff3712_8b00_11e9_9fc5_983b8f33a544row0_col1\" class=\"data row0 col1\" >$3.05</td>\n",
       "                        <td id=\"T_4fff3712_8b00_11e9_9fc5_983b8f33a544row0_col2\" class=\"data row0 col2\" >780</td>\n",
       "                        <td id=\"T_4fff3712_8b00_11e9_9fc5_983b8f33a544row0_col3\" class=\"data row0 col3\" >$2,379.77</td>\n",
       "            </tr>\n",
       "    </tbody></table>"
      ],
      "text/plain": [
       "<pandas.io.formats.style.Styler at 0x1b256e99ef0>"
      ]
     },
     "execution_count": 17,
     "metadata": {},
     "output_type": "execute_result"
    }
   ],
   "source": [
    "#Run basic calculations\n",
    "\n",
    "unique_items= len(purchase_data[\"Item ID\"].unique())\n",
    "avg_price= purchase_data[\"Price\"].mean()\n",
    "total_purchases_made= len(purchase_data[\"Purchase ID\"])\n",
    "total_revenue= purchase_data[\"Price\"].sum()\n",
    "\n",
    "# Create data frame with obtained values formatted with currency\n",
    "purchasing_summary = pd.DataFrame({\"Number of Unique Items\":[unique_items],\n",
    "                           \"Average Price\":[avg_price], \n",
    "                           \"Number of Purchases\": [total_purchases_made], \n",
    "                           \"Total Revenue\": [total_revenue]})\n",
    "purchasing_summary.style.format({'Average Price':\"${:,.2f}\",\n",
    "                         'Total Revenue': '${:,.2f}'})"
   ]
  },
  {
   "cell_type": "markdown",
   "metadata": {},
   "source": [
    "## Gender Demographics"
   ]
  },
  {
   "cell_type": "markdown",
   "metadata": {},
   "source": [
    "* Percentage and Count of Male Players\n",
    "\n",
    "\n",
    "* Percentage and Count of Female Players\n",
    "\n",
    "\n",
    "* Percentage and Count of Other / Non-Disclosed\n",
    "\n",
    "\n"
   ]
  },
  {
   "cell_type": "code",
   "execution_count": 29,
   "metadata": {},
   "outputs": [
    {
     "data": {
      "text/html": [
       "<style  type=\"text/css\" >\n",
       "</style><table id=\"T_50c282f8_8b02_11e9_9899_983b8f33a544\" ><thead>    <tr>        <th class=\"blank level0\" ></th>        <th class=\"col_heading level0 col0\" >Percentage of Players</th>        <th class=\"col_heading level0 col1\" >Total Count</th>    </tr></thead><tbody>\n",
       "                <tr>\n",
       "                        <th id=\"T_50c282f8_8b02_11e9_9899_983b8f33a544level0_row0\" class=\"row_heading level0 row0\" >Male</th>\n",
       "                        <td id=\"T_50c282f8_8b02_11e9_9899_983b8f33a544row0_col0\" class=\"data row0 col0\" >62.05%</td>\n",
       "                        <td id=\"T_50c282f8_8b02_11e9_9899_983b8f33a544row0_col1\" class=\"data row0 col1\" >484</td>\n",
       "            </tr>\n",
       "            <tr>\n",
       "                        <th id=\"T_50c282f8_8b02_11e9_9899_983b8f33a544level0_row1\" class=\"row_heading level0 row1\" >Female</th>\n",
       "                        <td id=\"T_50c282f8_8b02_11e9_9899_983b8f33a544row1_col0\" class=\"data row1 col0\" >10.38%</td>\n",
       "                        <td id=\"T_50c282f8_8b02_11e9_9899_983b8f33a544row1_col1\" class=\"data row1 col1\" >81</td>\n",
       "            </tr>\n",
       "            <tr>\n",
       "                        <th id=\"T_50c282f8_8b02_11e9_9899_983b8f33a544level0_row2\" class=\"row_heading level0 row2\" >Other / Non-Disclosed</th>\n",
       "                        <td id=\"T_50c282f8_8b02_11e9_9899_983b8f33a544row2_col0\" class=\"data row2 col0\" >1.41%</td>\n",
       "                        <td id=\"T_50c282f8_8b02_11e9_9899_983b8f33a544row2_col1\" class=\"data row2 col1\" >11</td>\n",
       "            </tr>\n",
       "    </tbody></table>"
      ],
      "text/plain": [
       "<pandas.io.formats.style.Styler at 0x1b256e94f98>"
      ]
     },
     "execution_count": 29,
     "metadata": {},
     "output_type": "execute_result"
    }
   ],
   "source": [
    "# Groupby gender\n",
    "gender_grouped = purchase_data.groupby(\"Gender\")\n",
    "\n",
    "# Count the total of screen names by gender\n",
    "total_count_gender = gender_grouped.nunique()[\"SN\"]\n",
    "\n",
    "# Calculations by gender\n",
    "percent_players_gender = (total_count_gender / total_players)* 100\n",
    "gender_demographics = pd.DataFrame({\"Percentage of Players\": percent_players, \"Total Count\": total_count_gender})\n",
    "\n",
    "# Format the data frame with no index name and showing percentages accordingly\n",
    "gender_demographics.index.name = None\n",
    "gender_demographics.sort_values([\"Total Count\"], ascending = False).style.format({\"Percentage of Players\":\"{:.2f}%\"})"
   ]
  },
  {
   "cell_type": "markdown",
   "metadata": {},
   "source": [
    "\n",
    "## Purchasing Analysis (Gender)"
   ]
  },
  {
   "cell_type": "markdown",
   "metadata": {},
   "source": [
    "* Run basic calculations to obtain purchase count, avg. purchase price, avg. purchase total per person etc. by gender\n",
    "\n",
    "\n",
    "\n",
    "\n",
    "* Create a summary data frame to hold the results\n",
    "\n",
    "\n",
    "* Optional: give the displayed data cleaner formatting\n",
    "\n",
    "\n",
    "* Display the summary data frame"
   ]
  },
  {
   "cell_type": "code",
   "execution_count": 34,
   "metadata": {},
   "outputs": [
    {
     "data": {
      "text/html": [
       "<style  type=\"text/css\" >\n",
       "</style><table id=\"T_6a5c517a_8b03_11e9_bacc_983b8f33a544\" ><thead>    <tr>        <th class=\"blank level0\" ></th>        <th class=\"col_heading level0 col0\" >Purchase Count</th>        <th class=\"col_heading level0 col1\" >Average Purchase Price</th>        <th class=\"col_heading level0 col2\" >Total Purchase Value</th>        <th class=\"col_heading level0 col3\" >Average Purchase Total per Person</th>    </tr>    <tr>        <th class=\"index_name level0\" >Gender</th>        <th class=\"blank\" ></th>        <th class=\"blank\" ></th>        <th class=\"blank\" ></th>        <th class=\"blank\" ></th>    </tr></thead><tbody>\n",
       "                <tr>\n",
       "                        <th id=\"T_6a5c517a_8b03_11e9_bacc_983b8f33a544level0_row0\" class=\"row_heading level0 row0\" >Female</th>\n",
       "                        <td id=\"T_6a5c517a_8b03_11e9_bacc_983b8f33a544row0_col0\" class=\"data row0 col0\" >113</td>\n",
       "                        <td id=\"T_6a5c517a_8b03_11e9_bacc_983b8f33a544row0_col1\" class=\"data row0 col1\" >$3.20</td>\n",
       "                        <td id=\"T_6a5c517a_8b03_11e9_bacc_983b8f33a544row0_col2\" class=\"data row0 col2\" >$361.94</td>\n",
       "                        <td id=\"T_6a5c517a_8b03_11e9_bacc_983b8f33a544row0_col3\" class=\"data row0 col3\" >$0.04</td>\n",
       "            </tr>\n",
       "            <tr>\n",
       "                        <th id=\"T_6a5c517a_8b03_11e9_bacc_983b8f33a544level0_row1\" class=\"row_heading level0 row1\" >Male</th>\n",
       "                        <td id=\"T_6a5c517a_8b03_11e9_bacc_983b8f33a544row1_col0\" class=\"data row1 col0\" >652</td>\n",
       "                        <td id=\"T_6a5c517a_8b03_11e9_bacc_983b8f33a544row1_col1\" class=\"data row1 col1\" >$3.02</td>\n",
       "                        <td id=\"T_6a5c517a_8b03_11e9_bacc_983b8f33a544row1_col2\" class=\"data row1 col2\" >$1,967.64</td>\n",
       "                        <td id=\"T_6a5c517a_8b03_11e9_bacc_983b8f33a544row1_col3\" class=\"data row1 col3\" >$0.01</td>\n",
       "            </tr>\n",
       "            <tr>\n",
       "                        <th id=\"T_6a5c517a_8b03_11e9_bacc_983b8f33a544level0_row2\" class=\"row_heading level0 row2\" >Other / Non-Disclosed</th>\n",
       "                        <td id=\"T_6a5c517a_8b03_11e9_bacc_983b8f33a544row2_col0\" class=\"data row2 col0\" >15</td>\n",
       "                        <td id=\"T_6a5c517a_8b03_11e9_bacc_983b8f33a544row2_col1\" class=\"data row2 col1\" >$3.35</td>\n",
       "                        <td id=\"T_6a5c517a_8b03_11e9_bacc_983b8f33a544row2_col2\" class=\"data row2 col2\" >$50.19</td>\n",
       "                        <td id=\"T_6a5c517a_8b03_11e9_bacc_983b8f33a544row2_col3\" class=\"data row2 col3\" >$0.30</td>\n",
       "            </tr>\n",
       "    </tbody></table>"
      ],
      "text/plain": [
       "<pandas.io.formats.style.Styler at 0x1b256fda860>"
      ]
     },
     "execution_count": 34,
     "metadata": {},
     "output_type": "execute_result"
    }
   ],
   "source": [
    "#Obtain purchasing analysis parameters by gender\n",
    "purchase_count_gender = gender_grouped[\"SN\"].count()\n",
    "avg_purchase_price_gender = gender_grouped[\"Price\"].mean()\n",
    "total_purchase_value_gender = gender_grouped[\"Price\"].sum()\n",
    "avg_purchase_per_person_gender =avg_purchase_price/total_count_gender\n",
    "\n",
    "#create a dataframe with the parameters and format accordingly\n",
    "purchasing_analysis_gender= pd.DataFrame({\"Purchase Count\": purchase_count_gender, \n",
    "                                    \"Average Purchase Price\": avg_purchase_price_gender,\n",
    "                                    \"Total Purchase Value\": total_purchase_value_gender,\n",
    "                                    \"Average Purchase Total per Person\": avg_purchase_per_person_gender})\n",
    "purchasing_analysis_gender.index.name = \"Gender\"\n",
    "purchasing_analysis_gender.style.format({\"Average Purchase Price\":\"${:,.2f}\",\n",
    "                                  \"Total Purchase Value\":\"${:,.2f}\",\n",
    "                                  \"Average Purchase Total per Person\":\"${:,.2f}\"})\n"
   ]
  },
  {
   "cell_type": "markdown",
   "metadata": {},
   "source": [
    "## Age Demographics"
   ]
  },
  {
   "cell_type": "markdown",
   "metadata": {},
   "source": [
    "* Establish bins for ages\n",
    "\n",
    "\n",
    "* Categorize the existing players using the age bins. Hint: use pd.cut()\n",
    "\n",
    "\n",
    "* Calculate the numbers and percentages by age group\n",
    "\n",
    "\n",
    "* Create a summary data frame to hold the results\n",
    "\n",
    "\n",
    "* Optional: round the percentage column to two decimal points\n",
    "\n",
    "\n",
    "* Display Age Demographics Table\n"
   ]
  },
  {
   "cell_type": "code",
   "execution_count": 35,
   "metadata": {},
   "outputs": [
    {
     "data": {
      "text/html": [
       "<style  type=\"text/css\" >\n",
       "</style><table id=\"T_1beae1ca_8b04_11e9_9a63_983b8f33a544\" ><thead>    <tr>        <th class=\"blank level0\" ></th>        <th class=\"col_heading level0 col0\" >Percentage of Players</th>        <th class=\"col_heading level0 col1\" >Total Count</th>    </tr></thead><tbody>\n",
       "                <tr>\n",
       "                        <th id=\"T_1beae1ca_8b04_11e9_9a63_983b8f33a544level0_row0\" class=\"row_heading level0 row0\" ><10</th>\n",
       "                        <td id=\"T_1beae1ca_8b04_11e9_9a63_983b8f33a544row0_col0\" class=\"data row0 col0\" >2.18</td>\n",
       "                        <td id=\"T_1beae1ca_8b04_11e9_9a63_983b8f33a544row0_col1\" class=\"data row0 col1\" >17</td>\n",
       "            </tr>\n",
       "            <tr>\n",
       "                        <th id=\"T_1beae1ca_8b04_11e9_9a63_983b8f33a544level0_row1\" class=\"row_heading level0 row1\" >10-14</th>\n",
       "                        <td id=\"T_1beae1ca_8b04_11e9_9a63_983b8f33a544row1_col0\" class=\"data row1 col0\" >2.82</td>\n",
       "                        <td id=\"T_1beae1ca_8b04_11e9_9a63_983b8f33a544row1_col1\" class=\"data row1 col1\" >22</td>\n",
       "            </tr>\n",
       "            <tr>\n",
       "                        <th id=\"T_1beae1ca_8b04_11e9_9a63_983b8f33a544level0_row2\" class=\"row_heading level0 row2\" >15-19</th>\n",
       "                        <td id=\"T_1beae1ca_8b04_11e9_9a63_983b8f33a544row2_col0\" class=\"data row2 col0\" >13.72</td>\n",
       "                        <td id=\"T_1beae1ca_8b04_11e9_9a63_983b8f33a544row2_col1\" class=\"data row2 col1\" >107</td>\n",
       "            </tr>\n",
       "            <tr>\n",
       "                        <th id=\"T_1beae1ca_8b04_11e9_9a63_983b8f33a544level0_row3\" class=\"row_heading level0 row3\" >20-24</th>\n",
       "                        <td id=\"T_1beae1ca_8b04_11e9_9a63_983b8f33a544row3_col0\" class=\"data row3 col0\" >33.08</td>\n",
       "                        <td id=\"T_1beae1ca_8b04_11e9_9a63_983b8f33a544row3_col1\" class=\"data row3 col1\" >258</td>\n",
       "            </tr>\n",
       "            <tr>\n",
       "                        <th id=\"T_1beae1ca_8b04_11e9_9a63_983b8f33a544level0_row4\" class=\"row_heading level0 row4\" >25-29</th>\n",
       "                        <td id=\"T_1beae1ca_8b04_11e9_9a63_983b8f33a544row4_col0\" class=\"data row4 col0\" >9.87</td>\n",
       "                        <td id=\"T_1beae1ca_8b04_11e9_9a63_983b8f33a544row4_col1\" class=\"data row4 col1\" >77</td>\n",
       "            </tr>\n",
       "            <tr>\n",
       "                        <th id=\"T_1beae1ca_8b04_11e9_9a63_983b8f33a544level0_row5\" class=\"row_heading level0 row5\" >30-34</th>\n",
       "                        <td id=\"T_1beae1ca_8b04_11e9_9a63_983b8f33a544row5_col0\" class=\"data row5 col0\" >6.67</td>\n",
       "                        <td id=\"T_1beae1ca_8b04_11e9_9a63_983b8f33a544row5_col1\" class=\"data row5 col1\" >52</td>\n",
       "            </tr>\n",
       "            <tr>\n",
       "                        <th id=\"T_1beae1ca_8b04_11e9_9a63_983b8f33a544level0_row6\" class=\"row_heading level0 row6\" >35-39</th>\n",
       "                        <td id=\"T_1beae1ca_8b04_11e9_9a63_983b8f33a544row6_col0\" class=\"data row6 col0\" >3.97</td>\n",
       "                        <td id=\"T_1beae1ca_8b04_11e9_9a63_983b8f33a544row6_col1\" class=\"data row6 col1\" >31</td>\n",
       "            </tr>\n",
       "            <tr>\n",
       "                        <th id=\"T_1beae1ca_8b04_11e9_9a63_983b8f33a544level0_row7\" class=\"row_heading level0 row7\" >40+</th>\n",
       "                        <td id=\"T_1beae1ca_8b04_11e9_9a63_983b8f33a544row7_col0\" class=\"data row7 col0\" >1.54</td>\n",
       "                        <td id=\"T_1beae1ca_8b04_11e9_9a63_983b8f33a544row7_col1\" class=\"data row7 col1\" >12</td>\n",
       "            </tr>\n",
       "    </tbody></table>"
      ],
      "text/plain": [
       "<pandas.io.formats.style.Styler at 0x1b255f96908>"
      ]
     },
     "execution_count": 35,
     "metadata": {},
     "output_type": "execute_result"
    }
   ],
   "source": [
    "#Create bins for age groups\n",
    "age_bins = [0, 9.90, 14.90, 19.90, 24.90, 29.90, 34.90, 39.90, 99999]\n",
    "age_groups = [\"<10\", \"10-14\", \"15-19\", \"20-24\", \"25-29\", \"30-34\", \"35-39\", \"40+\"]\n",
    "\n",
    "#Sort data into bins\n",
    "purchase_data[\"Age Group\"] = pd.cut(purchase_data[\"Age\"], age_bins, labels=age_groups)\n",
    "purchase_data\n",
    "age_grouped = purchase_data.groupby(\"Age Group\")\n",
    "total_age_count = age_grouped[\"SN\"].nunique()\n",
    "percent_players_age = (total_age_count/total_players) * 100\n",
    "\n",
    "#Create a dataframe with the sorted data and format\n",
    "age_demographics = pd.DataFrame({\"Percentage of Players\": percent_players_age, \"Total Count\": total_age_count})\n",
    "age_demographics.index.name = None\n",
    "age_demographics.style.format({\"Percentage of Players\":\"{:,.2f}\"})"
   ]
  },
  {
   "cell_type": "markdown",
   "metadata": {},
   "source": [
    "## Purchasing Analysis (Age)"
   ]
  },
  {
   "cell_type": "markdown",
   "metadata": {},
   "source": [
    "* Bin the purchase_data data frame by age\n",
    "\n",
    "\n",
    "* Run basic calculations to obtain purchase count, avg. purchase price, avg. purchase total per person etc. in the table below\n",
    "\n",
    "\n",
    "* Create a summary data frame to hold the results\n",
    "\n",
    "\n",
    "* Optional: give the displayed data cleaner formatting\n",
    "\n",
    "\n",
    "* Display the summary data frame"
   ]
  },
  {
   "cell_type": "code",
   "execution_count": 36,
   "metadata": {},
   "outputs": [
    {
     "data": {
      "text/html": [
       "<style  type=\"text/css\" >\n",
       "</style><table id=\"T_7b77ab9c_8b04_11e9_bfc6_983b8f33a544\" ><thead>    <tr>        <th class=\"blank level0\" ></th>        <th class=\"col_heading level0 col0\" >Purchase Count</th>        <th class=\"col_heading level0 col1\" >Average Purchase Price</th>        <th class=\"col_heading level0 col2\" >Total Purchase Value</th>        <th class=\"col_heading level0 col3\" >Average Purchase Total per Person</th>    </tr></thead><tbody>\n",
       "                <tr>\n",
       "                        <th id=\"T_7b77ab9c_8b04_11e9_bfc6_983b8f33a544level0_row0\" class=\"row_heading level0 row0\" ><10</th>\n",
       "                        <td id=\"T_7b77ab9c_8b04_11e9_bfc6_983b8f33a544row0_col0\" class=\"data row0 col0\" >23</td>\n",
       "                        <td id=\"T_7b77ab9c_8b04_11e9_bfc6_983b8f33a544row0_col1\" class=\"data row0 col1\" >$3.35</td>\n",
       "                        <td id=\"T_7b77ab9c_8b04_11e9_bfc6_983b8f33a544row0_col2\" class=\"data row0 col2\" >$77.13</td>\n",
       "                        <td id=\"T_7b77ab9c_8b04_11e9_bfc6_983b8f33a544row0_col3\" class=\"data row0 col3\" >$0.20</td>\n",
       "            </tr>\n",
       "            <tr>\n",
       "                        <th id=\"T_7b77ab9c_8b04_11e9_bfc6_983b8f33a544level0_row1\" class=\"row_heading level0 row1\" >10-14</th>\n",
       "                        <td id=\"T_7b77ab9c_8b04_11e9_bfc6_983b8f33a544row1_col0\" class=\"data row1 col0\" >28</td>\n",
       "                        <td id=\"T_7b77ab9c_8b04_11e9_bfc6_983b8f33a544row1_col1\" class=\"data row1 col1\" >$2.96</td>\n",
       "                        <td id=\"T_7b77ab9c_8b04_11e9_bfc6_983b8f33a544row1_col2\" class=\"data row1 col2\" >$82.78</td>\n",
       "                        <td id=\"T_7b77ab9c_8b04_11e9_bfc6_983b8f33a544row1_col3\" class=\"data row1 col3\" >$0.13</td>\n",
       "            </tr>\n",
       "            <tr>\n",
       "                        <th id=\"T_7b77ab9c_8b04_11e9_bfc6_983b8f33a544level0_row2\" class=\"row_heading level0 row2\" >15-19</th>\n",
       "                        <td id=\"T_7b77ab9c_8b04_11e9_bfc6_983b8f33a544row2_col0\" class=\"data row2 col0\" >136</td>\n",
       "                        <td id=\"T_7b77ab9c_8b04_11e9_bfc6_983b8f33a544row2_col1\" class=\"data row2 col1\" >$3.04</td>\n",
       "                        <td id=\"T_7b77ab9c_8b04_11e9_bfc6_983b8f33a544row2_col2\" class=\"data row2 col2\" >$412.89</td>\n",
       "                        <td id=\"T_7b77ab9c_8b04_11e9_bfc6_983b8f33a544row2_col3\" class=\"data row2 col3\" >$0.03</td>\n",
       "            </tr>\n",
       "            <tr>\n",
       "                        <th id=\"T_7b77ab9c_8b04_11e9_bfc6_983b8f33a544level0_row3\" class=\"row_heading level0 row3\" >20-24</th>\n",
       "                        <td id=\"T_7b77ab9c_8b04_11e9_bfc6_983b8f33a544row3_col0\" class=\"data row3 col0\" >365</td>\n",
       "                        <td id=\"T_7b77ab9c_8b04_11e9_bfc6_983b8f33a544row3_col1\" class=\"data row3 col1\" >$3.05</td>\n",
       "                        <td id=\"T_7b77ab9c_8b04_11e9_bfc6_983b8f33a544row3_col2\" class=\"data row3 col2\" >$1,114.06</td>\n",
       "                        <td id=\"T_7b77ab9c_8b04_11e9_bfc6_983b8f33a544row3_col3\" class=\"data row3 col3\" >$0.01</td>\n",
       "            </tr>\n",
       "            <tr>\n",
       "                        <th id=\"T_7b77ab9c_8b04_11e9_bfc6_983b8f33a544level0_row4\" class=\"row_heading level0 row4\" >25-29</th>\n",
       "                        <td id=\"T_7b77ab9c_8b04_11e9_bfc6_983b8f33a544row4_col0\" class=\"data row4 col0\" >101</td>\n",
       "                        <td id=\"T_7b77ab9c_8b04_11e9_bfc6_983b8f33a544row4_col1\" class=\"data row4 col1\" >$2.90</td>\n",
       "                        <td id=\"T_7b77ab9c_8b04_11e9_bfc6_983b8f33a544row4_col2\" class=\"data row4 col2\" >$293.00</td>\n",
       "                        <td id=\"T_7b77ab9c_8b04_11e9_bfc6_983b8f33a544row4_col3\" class=\"data row4 col3\" >$0.04</td>\n",
       "            </tr>\n",
       "            <tr>\n",
       "                        <th id=\"T_7b77ab9c_8b04_11e9_bfc6_983b8f33a544level0_row5\" class=\"row_heading level0 row5\" >30-34</th>\n",
       "                        <td id=\"T_7b77ab9c_8b04_11e9_bfc6_983b8f33a544row5_col0\" class=\"data row5 col0\" >73</td>\n",
       "                        <td id=\"T_7b77ab9c_8b04_11e9_bfc6_983b8f33a544row5_col1\" class=\"data row5 col1\" >$2.93</td>\n",
       "                        <td id=\"T_7b77ab9c_8b04_11e9_bfc6_983b8f33a544row5_col2\" class=\"data row5 col2\" >$214.00</td>\n",
       "                        <td id=\"T_7b77ab9c_8b04_11e9_bfc6_983b8f33a544row5_col3\" class=\"data row5 col3\" >$0.06</td>\n",
       "            </tr>\n",
       "            <tr>\n",
       "                        <th id=\"T_7b77ab9c_8b04_11e9_bfc6_983b8f33a544level0_row6\" class=\"row_heading level0 row6\" >35-39</th>\n",
       "                        <td id=\"T_7b77ab9c_8b04_11e9_bfc6_983b8f33a544row6_col0\" class=\"data row6 col0\" >41</td>\n",
       "                        <td id=\"T_7b77ab9c_8b04_11e9_bfc6_983b8f33a544row6_col1\" class=\"data row6 col1\" >$3.60</td>\n",
       "                        <td id=\"T_7b77ab9c_8b04_11e9_bfc6_983b8f33a544row6_col2\" class=\"data row6 col2\" >$147.67</td>\n",
       "                        <td id=\"T_7b77ab9c_8b04_11e9_bfc6_983b8f33a544row6_col3\" class=\"data row6 col3\" >$0.12</td>\n",
       "            </tr>\n",
       "            <tr>\n",
       "                        <th id=\"T_7b77ab9c_8b04_11e9_bfc6_983b8f33a544level0_row7\" class=\"row_heading level0 row7\" >40+</th>\n",
       "                        <td id=\"T_7b77ab9c_8b04_11e9_bfc6_983b8f33a544row7_col0\" class=\"data row7 col0\" >13</td>\n",
       "                        <td id=\"T_7b77ab9c_8b04_11e9_bfc6_983b8f33a544row7_col1\" class=\"data row7 col1\" >$2.94</td>\n",
       "                        <td id=\"T_7b77ab9c_8b04_11e9_bfc6_983b8f33a544row7_col2\" class=\"data row7 col2\" >$38.24</td>\n",
       "                        <td id=\"T_7b77ab9c_8b04_11e9_bfc6_983b8f33a544row7_col3\" class=\"data row7 col3\" >$0.25</td>\n",
       "            </tr>\n",
       "    </tbody></table>"
      ],
      "text/plain": [
       "<pandas.io.formats.style.Styler at 0x1b25350f550>"
      ]
     },
     "execution_count": 36,
     "metadata": {},
     "output_type": "execute_result"
    }
   ],
   "source": [
    "#Groupby age and calculate purchasing analysis parameters by age\n",
    "purchase_count_age = age_grouped[\"SN\"].count()\n",
    "avg_purchase_price_age = age_grouped[\"Price\"].mean()\n",
    "total_purchase_value_age = age_grouped[\"Price\"].sum()\n",
    "avg_purchase_per_person_age =avg_purchase_price_age/total_age_count\n",
    "\n",
    "#Create a dataframe a format\n",
    "purchasing_analysis_age= pd.DataFrame({\"Purchase Count\": purchase_count_age,\n",
    "                                 \"Average Purchase Price\": avg_purchase_price_age,\n",
    "                                 \"Total Purchase Value\":total_purchase_value_age,\n",
    "                                 \"Average Purchase Total per Person\": avg_purchase_per_person_age})\n",
    "purchasing_analysis_age.index.name = None\n",
    "purchasing_analysis_age.style.format({\"Average Purchase Price\":\"${:,.2f}\",\n",
    "                               \"Total Purchase Value\":\"${:,.2f}\",\n",
    "                               \"Average Purchase Total per Person\":\"${:,.2f}\"})"
   ]
  },
  {
   "cell_type": "markdown",
   "metadata": {},
   "source": [
    "## Top Spenders"
   ]
  },
  {
   "cell_type": "markdown",
   "metadata": {},
   "source": [
    "* Run basic calculations to obtain the results in the table below\n",
    "\n",
    "\n",
    "* Create a summary data frame to hold the results\n",
    "\n",
    "\n",
    "* Sort the total purchase value column in descending order\n",
    "\n",
    "\n",
    "* Optional: give the displayed data cleaner formatting\n",
    "\n",
    "\n",
    "* Display a preview of the summary data frame\n",
    "\n"
   ]
  },
  {
   "cell_type": "code",
   "execution_count": 38,
   "metadata": {},
   "outputs": [
    {
     "data": {
      "text/html": [
       "<style  type=\"text/css\" >\n",
       "</style><table id=\"T_0a32924c_8b05_11e9_9dfd_983b8f33a544\" ><thead>    <tr>        <th class=\"blank level0\" ></th>        <th class=\"col_heading level0 col0\" >Purchase Count</th>        <th class=\"col_heading level0 col1\" >Average Purchase Price</th>        <th class=\"col_heading level0 col2\" >Total Purchase Value</th>    </tr>    <tr>        <th class=\"index_name level0\" >SN</th>        <th class=\"blank\" ></th>        <th class=\"blank\" ></th>        <th class=\"blank\" ></th>    </tr></thead><tbody>\n",
       "                <tr>\n",
       "                        <th id=\"T_0a32924c_8b05_11e9_9dfd_983b8f33a544level0_row0\" class=\"row_heading level0 row0\" >Lisosia93</th>\n",
       "                        <td id=\"T_0a32924c_8b05_11e9_9dfd_983b8f33a544row0_col0\" class=\"data row0 col0\" >5</td>\n",
       "                        <td id=\"T_0a32924c_8b05_11e9_9dfd_983b8f33a544row0_col1\" class=\"data row0 col1\" >$3.79</td>\n",
       "                        <td id=\"T_0a32924c_8b05_11e9_9dfd_983b8f33a544row0_col2\" class=\"data row0 col2\" >$18.96</td>\n",
       "            </tr>\n",
       "            <tr>\n",
       "                        <th id=\"T_0a32924c_8b05_11e9_9dfd_983b8f33a544level0_row1\" class=\"row_heading level0 row1\" >Idastidru52</th>\n",
       "                        <td id=\"T_0a32924c_8b05_11e9_9dfd_983b8f33a544row1_col0\" class=\"data row1 col0\" >4</td>\n",
       "                        <td id=\"T_0a32924c_8b05_11e9_9dfd_983b8f33a544row1_col1\" class=\"data row1 col1\" >$3.86</td>\n",
       "                        <td id=\"T_0a32924c_8b05_11e9_9dfd_983b8f33a544row1_col2\" class=\"data row1 col2\" >$15.45</td>\n",
       "            </tr>\n",
       "            <tr>\n",
       "                        <th id=\"T_0a32924c_8b05_11e9_9dfd_983b8f33a544level0_row2\" class=\"row_heading level0 row2\" >Chamjask73</th>\n",
       "                        <td id=\"T_0a32924c_8b05_11e9_9dfd_983b8f33a544row2_col0\" class=\"data row2 col0\" >3</td>\n",
       "                        <td id=\"T_0a32924c_8b05_11e9_9dfd_983b8f33a544row2_col1\" class=\"data row2 col1\" >$4.61</td>\n",
       "                        <td id=\"T_0a32924c_8b05_11e9_9dfd_983b8f33a544row2_col2\" class=\"data row2 col2\" >$13.83</td>\n",
       "            </tr>\n",
       "            <tr>\n",
       "                        <th id=\"T_0a32924c_8b05_11e9_9dfd_983b8f33a544level0_row3\" class=\"row_heading level0 row3\" >Iral74</th>\n",
       "                        <td id=\"T_0a32924c_8b05_11e9_9dfd_983b8f33a544row3_col0\" class=\"data row3 col0\" >4</td>\n",
       "                        <td id=\"T_0a32924c_8b05_11e9_9dfd_983b8f33a544row3_col1\" class=\"data row3 col1\" >$3.40</td>\n",
       "                        <td id=\"T_0a32924c_8b05_11e9_9dfd_983b8f33a544row3_col2\" class=\"data row3 col2\" >$13.62</td>\n",
       "            </tr>\n",
       "            <tr>\n",
       "                        <th id=\"T_0a32924c_8b05_11e9_9dfd_983b8f33a544level0_row4\" class=\"row_heading level0 row4\" >Iskadarya95</th>\n",
       "                        <td id=\"T_0a32924c_8b05_11e9_9dfd_983b8f33a544row4_col0\" class=\"data row4 col0\" >3</td>\n",
       "                        <td id=\"T_0a32924c_8b05_11e9_9dfd_983b8f33a544row4_col1\" class=\"data row4 col1\" >$4.37</td>\n",
       "                        <td id=\"T_0a32924c_8b05_11e9_9dfd_983b8f33a544row4_col2\" class=\"data row4 col2\" >$13.10</td>\n",
       "            </tr>\n",
       "    </tbody></table>"
      ],
      "text/plain": [
       "<pandas.io.formats.style.Styler at 0x1b25701a828>"
      ]
     },
     "execution_count": 38,
     "metadata": {},
     "output_type": "execute_result"
    }
   ],
   "source": [
    "# Groupby screen names\n",
    "top_spenders = purchase_data.groupby([\"SN\"])\n",
    "\n",
    "# Calculate top spending parameters\n",
    "total_purchase_value_spender = top_spenders[\"Price\"].sum()\n",
    "purchase_count_spender = top_spenders[\"Purchase ID\"].count()\n",
    "avg_purchase_price_spender = top_spenders[\"Price\"].mean()\n",
    "\n",
    "#Create a dataframe in descending order with appropriate formatting\n",
    "\n",
    "top_spenders_df = pd.DataFrame({\"Purchase Count\": purchase_count_spender,\n",
    "                             \"Average Purchase Price\": avg_purchase_price_spender,\n",
    "                             \"Total Purchase Value\":total_purchase_value_spender})\n",
    "descending_spenders = top_spenders_df.sort_values([\"Total Purchase Value\"], ascending=False).head()\n",
    "descending_spenders.style.format({\"Average Purchase Total\":\"${:,.2f}\",\n",
    "                                 \"Average Purchase Price\":\"${:,.2f}\", \n",
    "                                 \"Total Purchase Value\":\"${:,.2f}\"})\n"
   ]
  },
  {
   "cell_type": "markdown",
   "metadata": {},
   "source": [
    "## Most Popular Items"
   ]
  },
  {
   "cell_type": "markdown",
   "metadata": {},
   "source": [
    "* Retrieve the Item ID, Item Name, and Item Price columns\n",
    "\n",
    "\n",
    "* Group by Item ID and Item Name. Perform calculations to obtain purchase count, item price, and total purchase value\n",
    "\n",
    "\n",
    "* Create a summary data frame to hold the results\n",
    "\n",
    "\n",
    "* Sort the purchase count column in descending order\n",
    "\n",
    "\n",
    "* Optional: give the displayed data cleaner formatting\n",
    "\n",
    "\n",
    "* Display a preview of the summary data frame\n",
    "\n"
   ]
  },
  {
   "cell_type": "code",
   "execution_count": 40,
   "metadata": {},
   "outputs": [
    {
     "data": {
      "text/html": [
       "<style  type=\"text/css\" >\n",
       "</style><table id=\"T_e2fb467a_8b05_11e9_b4ec_983b8f33a544\" ><thead>    <tr>        <th class=\"blank\" ></th>        <th class=\"blank level0\" ></th>        <th class=\"col_heading level0 col0\" >Purchase Count</th>        <th class=\"col_heading level0 col1\" >Item Price</th>        <th class=\"col_heading level0 col2\" >Total Purchase Value</th>    </tr>    <tr>        <th class=\"index_name level0\" >Item ID</th>        <th class=\"index_name level1\" >Item Name</th>        <th class=\"blank\" ></th>        <th class=\"blank\" ></th>        <th class=\"blank\" ></th>    </tr></thead><tbody>\n",
       "                <tr>\n",
       "                        <th id=\"T_e2fb467a_8b05_11e9_b4ec_983b8f33a544level0_row0\" class=\"row_heading level0 row0\" >178</th>\n",
       "                        <th id=\"T_e2fb467a_8b05_11e9_b4ec_983b8f33a544level1_row0\" class=\"row_heading level1 row0\" >Oathbreaker, Last Hope of the Breaking Storm</th>\n",
       "                        <td id=\"T_e2fb467a_8b05_11e9_b4ec_983b8f33a544row0_col0\" class=\"data row0 col0\" >12</td>\n",
       "                        <td id=\"T_e2fb467a_8b05_11e9_b4ec_983b8f33a544row0_col1\" class=\"data row0 col1\" >$4.23</td>\n",
       "                        <td id=\"T_e2fb467a_8b05_11e9_b4ec_983b8f33a544row0_col2\" class=\"data row0 col2\" >$50.76</td>\n",
       "            </tr>\n",
       "            <tr>\n",
       "                        <th id=\"T_e2fb467a_8b05_11e9_b4ec_983b8f33a544level0_row1\" class=\"row_heading level0 row1\" >145</th>\n",
       "                        <th id=\"T_e2fb467a_8b05_11e9_b4ec_983b8f33a544level1_row1\" class=\"row_heading level1 row1\" >Fiery Glass Crusader</th>\n",
       "                        <td id=\"T_e2fb467a_8b05_11e9_b4ec_983b8f33a544row1_col0\" class=\"data row1 col0\" >9</td>\n",
       "                        <td id=\"T_e2fb467a_8b05_11e9_b4ec_983b8f33a544row1_col1\" class=\"data row1 col1\" >$4.58</td>\n",
       "                        <td id=\"T_e2fb467a_8b05_11e9_b4ec_983b8f33a544row1_col2\" class=\"data row1 col2\" >$41.22</td>\n",
       "            </tr>\n",
       "            <tr>\n",
       "                        <th id=\"T_e2fb467a_8b05_11e9_b4ec_983b8f33a544level0_row2\" class=\"row_heading level0 row2\" >108</th>\n",
       "                        <th id=\"T_e2fb467a_8b05_11e9_b4ec_983b8f33a544level1_row2\" class=\"row_heading level1 row2\" >Extraction, Quickblade Of Trembling Hands</th>\n",
       "                        <td id=\"T_e2fb467a_8b05_11e9_b4ec_983b8f33a544row2_col0\" class=\"data row2 col0\" >9</td>\n",
       "                        <td id=\"T_e2fb467a_8b05_11e9_b4ec_983b8f33a544row2_col1\" class=\"data row2 col1\" >$3.53</td>\n",
       "                        <td id=\"T_e2fb467a_8b05_11e9_b4ec_983b8f33a544row2_col2\" class=\"data row2 col2\" >$31.77</td>\n",
       "            </tr>\n",
       "            <tr>\n",
       "                        <th id=\"T_e2fb467a_8b05_11e9_b4ec_983b8f33a544level0_row3\" class=\"row_heading level0 row3\" >82</th>\n",
       "                        <th id=\"T_e2fb467a_8b05_11e9_b4ec_983b8f33a544level1_row3\" class=\"row_heading level1 row3\" >Nirvana</th>\n",
       "                        <td id=\"T_e2fb467a_8b05_11e9_b4ec_983b8f33a544row3_col0\" class=\"data row3 col0\" >9</td>\n",
       "                        <td id=\"T_e2fb467a_8b05_11e9_b4ec_983b8f33a544row3_col1\" class=\"data row3 col1\" >$4.90</td>\n",
       "                        <td id=\"T_e2fb467a_8b05_11e9_b4ec_983b8f33a544row3_col2\" class=\"data row3 col2\" >$44.10</td>\n",
       "            </tr>\n",
       "            <tr>\n",
       "                        <th id=\"T_e2fb467a_8b05_11e9_b4ec_983b8f33a544level0_row4\" class=\"row_heading level0 row4\" >19</th>\n",
       "                        <th id=\"T_e2fb467a_8b05_11e9_b4ec_983b8f33a544level1_row4\" class=\"row_heading level1 row4\" >Pursuit, Cudgel of Necromancy</th>\n",
       "                        <td id=\"T_e2fb467a_8b05_11e9_b4ec_983b8f33a544row4_col0\" class=\"data row4 col0\" >8</td>\n",
       "                        <td id=\"T_e2fb467a_8b05_11e9_b4ec_983b8f33a544row4_col1\" class=\"data row4 col1\" >$1.02</td>\n",
       "                        <td id=\"T_e2fb467a_8b05_11e9_b4ec_983b8f33a544row4_col2\" class=\"data row4 col2\" >$8.16</td>\n",
       "            </tr>\n",
       "    </tbody></table>"
      ],
      "text/plain": [
       "<pandas.io.formats.style.Styler at 0x1b25701af28>"
      ]
     },
     "execution_count": 40,
     "metadata": {},
     "output_type": "execute_result"
    }
   ],
   "source": [
    "#Retrieve the Iten ID, Item Name and Item Price columns\n",
    "\n",
    "item_cols = purchase_data[[\"Item ID\", \"Item Name\", \"Price\"]]\n",
    "\n",
    "#Groupby and calculations\n",
    "\n",
    "item_stats = item_cols.groupby([\"Item ID\",\"Item Name\"])\n",
    "purchase_count_item = item_stats[\"Price\"].count()\n",
    "total_purchase_value_item = (item_stats[\"Price\"].sum()) \n",
    "item_price = total_purchase_value_item/purchase_count_item\n",
    "\n",
    "#Create and format a dataframe with these parameters\n",
    "most_popular_items = pd.DataFrame({\"Purchase Count\": purchase_count_item, \n",
    "                                   \"Item Price\": item_price,\n",
    "                                   \"Total Purchase Value\": total_purchase_value_item})\n",
    "popular_items_descending = most_popular_items.sort_values([\"Purchase Count\"], ascending=False).head()\n",
    "popular_items_descending.style.format({\"Item Price\":\"${:,.2f}\",\n",
    "                                \"Total Purchase Value\":\"${:,.2f}\"})"
   ]
  },
  {
   "cell_type": "markdown",
   "metadata": {},
   "source": [
    "## Most Profitable Items"
   ]
  },
  {
   "cell_type": "markdown",
   "metadata": {},
   "source": [
    "* Sort the above table by total purchase value in descending order\n",
    "\n",
    "\n",
    "* Optional: give the displayed data cleaner formatting\n",
    "\n",
    "\n",
    "* Display a preview of the data frame\n",
    "\n"
   ]
  },
  {
   "cell_type": "code",
   "execution_count": 42,
   "metadata": {
    "scrolled": true
   },
   "outputs": [
    {
     "data": {
      "text/html": [
       "<style  type=\"text/css\" >\n",
       "</style><table id=\"T_16613492_8b06_11e9_b581_983b8f33a544\" ><thead>    <tr>        <th class=\"blank\" ></th>        <th class=\"blank level0\" ></th>        <th class=\"col_heading level0 col0\" >Purchase Count</th>        <th class=\"col_heading level0 col1\" >Item Price</th>        <th class=\"col_heading level0 col2\" >Total Purchase Value</th>    </tr>    <tr>        <th class=\"index_name level0\" >Item ID</th>        <th class=\"index_name level1\" >Item Name</th>        <th class=\"blank\" ></th>        <th class=\"blank\" ></th>        <th class=\"blank\" ></th>    </tr></thead><tbody>\n",
       "                <tr>\n",
       "                        <th id=\"T_16613492_8b06_11e9_b581_983b8f33a544level0_row0\" class=\"row_heading level0 row0\" >178</th>\n",
       "                        <th id=\"T_16613492_8b06_11e9_b581_983b8f33a544level1_row0\" class=\"row_heading level1 row0\" >Oathbreaker, Last Hope of the Breaking Storm</th>\n",
       "                        <td id=\"T_16613492_8b06_11e9_b581_983b8f33a544row0_col0\" class=\"data row0 col0\" >12</td>\n",
       "                        <td id=\"T_16613492_8b06_11e9_b581_983b8f33a544row0_col1\" class=\"data row0 col1\" >$4.23</td>\n",
       "                        <td id=\"T_16613492_8b06_11e9_b581_983b8f33a544row0_col2\" class=\"data row0 col2\" >$50.76</td>\n",
       "            </tr>\n",
       "            <tr>\n",
       "                        <th id=\"T_16613492_8b06_11e9_b581_983b8f33a544level0_row1\" class=\"row_heading level0 row1\" >145</th>\n",
       "                        <th id=\"T_16613492_8b06_11e9_b581_983b8f33a544level1_row1\" class=\"row_heading level1 row1\" >Fiery Glass Crusader</th>\n",
       "                        <td id=\"T_16613492_8b06_11e9_b581_983b8f33a544row1_col0\" class=\"data row1 col0\" >9</td>\n",
       "                        <td id=\"T_16613492_8b06_11e9_b581_983b8f33a544row1_col1\" class=\"data row1 col1\" >$4.58</td>\n",
       "                        <td id=\"T_16613492_8b06_11e9_b581_983b8f33a544row1_col2\" class=\"data row1 col2\" >$41.22</td>\n",
       "            </tr>\n",
       "            <tr>\n",
       "                        <th id=\"T_16613492_8b06_11e9_b581_983b8f33a544level0_row2\" class=\"row_heading level0 row2\" >108</th>\n",
       "                        <th id=\"T_16613492_8b06_11e9_b581_983b8f33a544level1_row2\" class=\"row_heading level1 row2\" >Extraction, Quickblade Of Trembling Hands</th>\n",
       "                        <td id=\"T_16613492_8b06_11e9_b581_983b8f33a544row2_col0\" class=\"data row2 col0\" >9</td>\n",
       "                        <td id=\"T_16613492_8b06_11e9_b581_983b8f33a544row2_col1\" class=\"data row2 col1\" >$3.53</td>\n",
       "                        <td id=\"T_16613492_8b06_11e9_b581_983b8f33a544row2_col2\" class=\"data row2 col2\" >$31.77</td>\n",
       "            </tr>\n",
       "            <tr>\n",
       "                        <th id=\"T_16613492_8b06_11e9_b581_983b8f33a544level0_row3\" class=\"row_heading level0 row3\" >82</th>\n",
       "                        <th id=\"T_16613492_8b06_11e9_b581_983b8f33a544level1_row3\" class=\"row_heading level1 row3\" >Nirvana</th>\n",
       "                        <td id=\"T_16613492_8b06_11e9_b581_983b8f33a544row3_col0\" class=\"data row3 col0\" >9</td>\n",
       "                        <td id=\"T_16613492_8b06_11e9_b581_983b8f33a544row3_col1\" class=\"data row3 col1\" >$4.90</td>\n",
       "                        <td id=\"T_16613492_8b06_11e9_b581_983b8f33a544row3_col2\" class=\"data row3 col2\" >$44.10</td>\n",
       "            </tr>\n",
       "            <tr>\n",
       "                        <th id=\"T_16613492_8b06_11e9_b581_983b8f33a544level0_row4\" class=\"row_heading level0 row4\" >19</th>\n",
       "                        <th id=\"T_16613492_8b06_11e9_b581_983b8f33a544level1_row4\" class=\"row_heading level1 row4\" >Pursuit, Cudgel of Necromancy</th>\n",
       "                        <td id=\"T_16613492_8b06_11e9_b581_983b8f33a544row4_col0\" class=\"data row4 col0\" >8</td>\n",
       "                        <td id=\"T_16613492_8b06_11e9_b581_983b8f33a544row4_col1\" class=\"data row4 col1\" >$1.02</td>\n",
       "                        <td id=\"T_16613492_8b06_11e9_b581_983b8f33a544row4_col2\" class=\"data row4 col2\" >$8.16</td>\n",
       "            </tr>\n",
       "    </tbody></table>"
      ],
      "text/plain": [
       "<pandas.io.formats.style.Styler at 0x1b256fc8ba8>"
      ]
     },
     "execution_count": 42,
     "metadata": {},
     "output_type": "execute_result"
    }
   ],
   "source": [
    "most_popular_items.sort_values([\"Total Purchase Value\"], ascending=False).head()\n",
    "popular_items_descending.style.format({\"Item Price\":\"${:,.2f}\",\n",
    "                                \"Total Purchase Value\":\"${:,.2f}\"})"
   ]
  }
 ],
 "metadata": {
  "anaconda-cloud": {},
  "kernel_info": {
   "name": "python3"
  },
  "kernelspec": {
   "display_name": "Python 3",
   "language": "python",
   "name": "python3"
  },
  "language_info": {
   "codemirror_mode": {
    "name": "ipython",
    "version": 3
   },
   "file_extension": ".py",
   "mimetype": "text/x-python",
   "name": "python",
   "nbconvert_exporter": "python",
   "pygments_lexer": "ipython3",
   "version": "3.7.3"
  },
  "nteract": {
   "version": "0.2.0"
  }
 },
 "nbformat": 4,
 "nbformat_minor": 2
}
